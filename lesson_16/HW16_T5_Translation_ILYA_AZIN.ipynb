{
 "cells": [
  {
   "cell_type": "markdown",
   "id": "acd5e0b6-a301-45a5-86b2-3235f86957bf",
   "metadata": {},
   "source": [
    "# T5 (Translator)"
   ]
  },
  {
   "cell_type": "code",
   "execution_count": 79,
   "id": "69b28a5f-bcee-4853-bfb5-9c23215a2360",
   "metadata": {
    "tags": []
   },
   "outputs": [],
   "source": [
    "from transformers import T5Tokenizer, T5ForConditionalGeneration"
   ]
  },
  {
   "cell_type": "code",
   "execution_count": 80,
   "id": "230c9475-ed42-4fcf-b7bc-ea90c4074dc5",
   "metadata": {
    "tags": []
   },
   "outputs": [],
   "source": [
    "tokenizer = T5Tokenizer.from_pretrained('t5-small')"
   ]
  },
  {
   "cell_type": "code",
   "execution_count": 81,
   "id": "8f055aa0-afc6-48ea-bebe-70f9987b524a",
   "metadata": {},
   "outputs": [],
   "source": [
    "model = T5ForConditionalGeneration.from_pretrained('t5-small', return_dict=True)"
   ]
  },
  {
   "cell_type": "code",
   "execution_count": 82,
   "id": "8b0ab42a-ae38-4c62-adcb-19f45af0d9ef",
   "metadata": {
    "tags": []
   },
   "outputs": [],
   "source": [
    "input = \"My name is Ilya and I live in Dnipro\""
   ]
  },
  {
   "cell_type": "code",
   "execution_count": 83,
   "id": "61bab0f4-7b60-4d8d-903c-17d33951b47a",
   "metadata": {
    "tags": []
   },
   "outputs": [],
   "source": [
    "input_ids = tokenizer(input, return_tensors=\"pt\").input_ids  # Batch size 1"
   ]
  },
  {
   "cell_type": "code",
   "execution_count": 85,
   "id": "5956ebfa-3ade-4267-a599-19ff13c115ed",
   "metadata": {
    "tags": []
   },
   "outputs": [],
   "source": [
    "outputs = model.generate(input_ids)"
   ]
  },
  {
   "cell_type": "code",
   "execution_count": 86,
   "id": "29822318-28ff-4bbf-a2b1-507de473cc6b",
   "metadata": {
    "tags": []
   },
   "outputs": [],
   "source": [
    "decoded = tokenizer.decode(outputs[0], skip_special_tokens=True)"
   ]
  },
  {
   "cell_type": "code",
   "execution_count": 87,
   "id": "c2ac043c-d7a9-4b8a-b1ce-e607c5b223ab",
   "metadata": {
    "tags": []
   },
   "outputs": [
    {
     "name": "stdout",
     "output_type": "stream",
     "text": [
      "Mein Name ist Ilya und ich wohne in Dnipro.\n"
     ]
    }
   ],
   "source": [
    "print(decoded)"
   ]
  },
  {
   "cell_type": "markdown",
   "id": "167a1faa-6e27-4892-b6cc-6562f409af41",
   "metadata": {},
   "source": [
    "# Flan-T5 (Generator)"
   ]
  },
  {
   "cell_type": "code",
   "execution_count": 88,
   "id": "299fa778-709c-475a-b51b-69aa77790b89",
   "metadata": {
    "tags": []
   },
   "outputs": [],
   "source": [
    "from transformers import AutoModelForSeq2SeqLM, AutoTokenizer"
   ]
  },
  {
   "cell_type": "code",
   "execution_count": 89,
   "id": "d43b0ab6-7697-457a-a3f4-9b4be63dcc49",
   "metadata": {
    "tags": []
   },
   "outputs": [],
   "source": [
    "model = AutoModelForSeq2SeqLM.from_pretrained('google/flan-t5-small')"
   ]
  },
  {
   "cell_type": "code",
   "execution_count": 90,
   "id": "fe3290e1-bba0-45c8-aa98-568b2cb83548",
   "metadata": {
    "tags": []
   },
   "outputs": [],
   "source": [
    "tokenizer = AutoTokenizer.from_pretrained('google/flan-t5-small')"
   ]
  },
  {
   "cell_type": "code",
   "execution_count": 91,
   "id": "0790332e-1a84-4238-9e53-d01d471c180b",
   "metadata": {
    "tags": []
   },
   "outputs": [
    {
     "name": "stdout",
     "output_type": "stream",
     "text": [
      "['Pour the pasta into a large pot and cover with a lid.']\n"
     ]
    }
   ],
   "source": [
    "inputs = tokenizer(\"A step by step recype to make bolognese pasta:\", return_tensors=\"pt\")\n",
    "outputs = model.generate(**inputs)\n",
    "print(tokenizer.batch_decode(outputs, skip_special_tokens=True))"
   ]
  },
  {
   "cell_type": "code",
   "execution_count": 92,
   "id": "867badb4-c348-4cb9-a3f9-b15f4d1d3122",
   "metadata": {
    "tags": []
   },
   "outputs": [
    {
     "name": "stdout",
     "output_type": "stream",
     "text": [
      "['Wie ich er bitten?']\n"
     ]
    }
   ],
   "source": [
    "inputs = tokenizer(\"translate English to German: How old are you?\", return_tensors=\"pt\")\n",
    "outputs = model.generate(**inputs)\n",
    "print(tokenizer.batch_decode(outputs, skip_special_tokens=True))"
   ]
  },
  {
   "cell_type": "code",
   "execution_count": 93,
   "id": "4adc1cc0-5702-497d-ad94-aeabea5b7272",
   "metadata": {
    "tags": []
   },
   "outputs": [],
   "source": [
    "model = AutoModelForSeq2SeqLM.from_pretrained('google/flan-t5-large')\n",
    "tokenizer = AutoTokenizer.from_pretrained('google/flan-t5-large')"
   ]
  },
  {
   "cell_type": "code",
   "execution_count": 94,
   "id": "51afddab-cfa0-4b86-a30c-3d555bd5c53c",
   "metadata": {
    "tags": []
   },
   "outputs": [
    {
     "name": "stdout",
     "output_type": "stream",
     "text": [
      "T5Config {\n",
      "  \"_name_or_path\": \"google/flan-t5-large\",\n",
      "  \"architectures\": [\n",
      "    \"T5ForConditionalGeneration\"\n",
      "  ],\n",
      "  \"d_ff\": 2816,\n",
      "  \"d_kv\": 64,\n",
      "  \"d_model\": 1024,\n",
      "  \"decoder_start_token_id\": 0,\n",
      "  \"dense_act_fn\": \"gelu_new\",\n",
      "  \"dropout_rate\": 0.1,\n",
      "  \"eos_token_id\": 1,\n",
      "  \"feed_forward_proj\": \"gated-gelu\",\n",
      "  \"initializer_factor\": 1.0,\n",
      "  \"is_encoder_decoder\": true,\n",
      "  \"is_gated_act\": true,\n",
      "  \"layer_norm_epsilon\": 1e-06,\n",
      "  \"model_type\": \"t5\",\n",
      "  \"n_positions\": 512,\n",
      "  \"num_decoder_layers\": 24,\n",
      "  \"num_heads\": 16,\n",
      "  \"num_layers\": 24,\n",
      "  \"output_past\": true,\n",
      "  \"pad_token_id\": 0,\n",
      "  \"relative_attention_max_distance\": 128,\n",
      "  \"relative_attention_num_buckets\": 32,\n",
      "  \"tie_word_embeddings\": false,\n",
      "  \"transformers_version\": \"4.30.0.dev0\",\n",
      "  \"use_cache\": true,\n",
      "  \"vocab_size\": 32128\n",
      "}\n",
      "\n"
     ]
    }
   ],
   "source": [
    "print(model.config)"
   ]
  },
  {
   "cell_type": "code",
   "execution_count": 95,
   "id": "8819280c-fe7a-4181-92e8-03679e4e326b",
   "metadata": {
    "tags": []
   },
   "outputs": [],
   "source": [
    "my_text = 'A short introduction to machine learning'"
   ]
  },
  {
   "cell_type": "code",
   "execution_count": 96,
   "id": "958b6147-5fc8-4fc2-a245-2d0a76093e96",
   "metadata": {
    "tags": []
   },
   "outputs": [],
   "source": [
    "inputs = tokenizer(my_text, return_tensors='pt')\n",
    "outputs = model.generate(**inputs,\n",
    "                        min_length=200,\n",
    "                        max_new_tokens=512,\n",
    "                        num_beams=16,\n",
    "                        no_repeat_ngram_size=2,\n",
    "                        early_stopping=True)\n",
    "output_text_Flan_t5 = tokenizer.batch_decode(outputs,\n",
    "                                            skip_special_tokens=True)"
   ]
  },
  {
   "cell_type": "code",
   "execution_count": 97,
   "id": "24d369e9-e61b-43ec-ba9c-0523d82d68af",
   "metadata": {
    "tags": []
   },
   "outputs": [
    {
     "name": "stdout",
     "output_type": "stream",
     "text": [
      "['Machine learning (ML) is a branch of computer science that uses artificial intelligence (AI) to make predictions about the world around us. ML can be applied to many areas of science, including medicine, physics, economics, and astronomy. It can also be used to develop new technologies, such as self-driving cars and robots. A short introduction to machine learning The following are some of the main topics covered in the course \"Machine Learning and Artificial Intelligence\" at the University of California, Berkeley. This course is designed for students who are interested in learning how to use computers to solve real-world problems. The course covers the following topics: Introduction to Machine Learning Using Machines to Solve Real-World Problems In this course, you will learn the fundamentals of how computers work and how they are used in real world situations. You will also learn how humans and machines interact with each other and the environment in which they live and work.']\n"
     ]
    }
   ],
   "source": [
    "print(output_text_Flan_t5)"
   ]
  },
  {
   "cell_type": "code",
   "execution_count": 98,
   "id": "32ffbb66-44c1-4434-b2f9-f3e8b46ae64d",
   "metadata": {
    "tags": []
   },
   "outputs": [
    {
     "name": "stdout",
     "output_type": "stream",
     "text": [
      "['Eine kurze Einführung in Machine Learning']\n"
     ]
    }
   ],
   "source": [
    "my_text = 'Translate to German: A short introduction to machine learning'\n",
    "\n",
    "inputs = tokenizer(my_text, return_tensors='pt')\n",
    "outputs = model.generate(**inputs,\n",
    "                        max_new_tokens=512,\n",
    "                        num_beams=16,\n",
    "                        no_repeat_ngram_size=2,\n",
    "                        early_stopping=True)\n",
    "output_text_Flan_t5 = tokenizer.batch_decode(outputs,\n",
    "                                            skip_special_tokens=True)\n",
    "\n",
    "print(output_text_Flan_t5)"
   ]
  },
  {
   "cell_type": "code",
   "execution_count": null,
   "id": "986874e4-3896-4ecd-a4b9-cbf2e3e8fdaa",
   "metadata": {},
   "outputs": [],
   "source": []
  }
 ],
 "metadata": {
  "kernelspec": {
   "display_name": "Python 3 (ipykernel)",
   "language": "python",
   "name": "python3"
  },
  "language_info": {
   "codemirror_mode": {
    "name": "ipython",
    "version": 3
   },
   "file_extension": ".py",
   "mimetype": "text/x-python",
   "name": "python",
   "nbconvert_exporter": "python",
   "pygments_lexer": "ipython3",
   "version": "3.9.2rc1"
  }
 },
 "nbformat": 4,
 "nbformat_minor": 5
}
